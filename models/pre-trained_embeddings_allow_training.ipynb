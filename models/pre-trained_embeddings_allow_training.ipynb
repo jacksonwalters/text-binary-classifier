{
 "cells": [
  {
   "cell_type": "code",
   "execution_count": 19,
   "id": "cdc6edbd",
   "metadata": {},
   "outputs": [],
   "source": [
    "#ALLOW TRAINING OF PRESET WEIGHTS"
   ]
  },
  {
   "cell_type": "code",
   "execution_count": 85,
   "id": "564b5e0d",
   "metadata": {},
   "outputs": [
    {
     "name": "stdout",
     "output_type": "stream",
     "text": [
      "sentence    Tune in 11:30 ET tomorrow for a live webcast o...\n",
      "label                                                       0\n",
      "source                                                  tweet\n",
      "Name: 0, dtype: object\n"
     ]
    }
   ],
   "source": [
    "import os\n",
    "import pandas as pd\n",
    "\n",
    "os.chdir('/Users/jacksonwalters/tensorflow_datasets')\n",
    "filepath_dict = {'tweet':   'labeled_tweets/all_labeled_tweets.txt'}\n",
    "\n",
    "df_list = []\n",
    "for source, filepath in filepath_dict.items():\n",
    "    df = pd.read_csv(filepath, names=['sentence', 'label'], sep='\\t')\n",
    "    df['source'] = source  # Add another column filled with the source name\n",
    "    df_list.append(df)\n",
    "\n",
    "df = pd.concat(df_list)\n",
    "print(df.iloc[0])"
   ]
  },
  {
   "cell_type": "code",
   "execution_count": 86,
   "id": "12683038",
   "metadata": {},
   "outputs": [],
   "source": [
    "#vectorize the data using a tokenizer\n",
    "from sklearn.model_selection import train_test_split\n",
    "from keras.preprocessing.text import Tokenizer\n",
    "from keras.preprocessing.sequence import pad_sequences\n",
    "\n",
    "tokenizer = Tokenizer(num_words=5000)\n",
    "#slice the df to get yelp sentences\n",
    "df_tweet = df[df['source'] == 'tweet']\n",
    "sentences = df_tweet['sentence'].values\n",
    "#tweet sentence sentiment labels. 0 = negative, 1 = positive\n",
    "y = df_tweet['label'].values\n",
    "#split the sentences into training data and test data\n",
    "sentences_train, sentences_test, y_train, y_test = train_test_split(sentences, y, test_size=0.25, random_state=1000)\n",
    "#vectorize the sentences\n",
    "tokenizer.fit_on_texts(sentences_train)\n",
    "X_train = tokenizer.texts_to_sequences(sentences_train)\n",
    "X_test = tokenizer.texts_to_sequences(sentences_test)\n",
    "# Adding 1 because of reserved 0 index\n",
    "vocab_size = len(tokenizer.word_index) + 1  \n",
    "#pad_sequences\n",
    "maxlen = 100\n",
    "X_train = pad_sequences(X_train, padding='post', maxlen=maxlen)\n",
    "X_test = pad_sequences(X_test, padding='post', maxlen=maxlen)"
   ]
  },
  {
   "cell_type": "code",
   "execution_count": 87,
   "id": "0bd54ed1",
   "metadata": {},
   "outputs": [
    {
     "data": {
      "text/plain": [
       "19415"
      ]
     },
     "execution_count": 87,
     "metadata": {},
     "output_type": "execute_result"
    }
   ],
   "source": [
    "vocab_size"
   ]
  },
  {
   "cell_type": "code",
   "execution_count": 88,
   "id": "ba777852",
   "metadata": {},
   "outputs": [],
   "source": [
    "#plotting function for accuracy metrics\n",
    "import matplotlib.pyplot as plt\n",
    "plt.style.use('ggplot')\n",
    "\n",
    "def plot_history(history):\n",
    "    acc = history.history['accuracy']\n",
    "    val_acc = history.history['val_accuracy']\n",
    "    loss = history.history['loss']\n",
    "    val_loss = history.history['val_loss']\n",
    "    x = range(1, len(acc) + 1)\n",
    "\n",
    "    plt.figure(figsize=(12, 5))\n",
    "    plt.subplot(1, 2, 1)\n",
    "    plt.plot(x, acc, 'b', label='Training acc')\n",
    "    plt.plot(x, val_acc, 'r', label='Validation acc')\n",
    "    plt.title('Training and validation accuracy')\n",
    "    plt.legend()\n",
    "    plt.subplot(1, 2, 2)\n",
    "    plt.plot(x, loss, 'b', label='Training loss')\n",
    "    plt.plot(x, val_loss, 'r', label='Validation loss')\n",
    "    plt.title('Training and validation loss')\n",
    "    plt.legend()"
   ]
  },
  {
   "cell_type": "code",
   "execution_count": 89,
   "id": "b8cf0fd4",
   "metadata": {},
   "outputs": [],
   "source": [
    "#create an embedding matrix. index of word corresponds to wordvector.\n",
    "import numpy as np\n",
    "\n",
    "def create_embedding_matrix(filepath, word_index, embedding_dim):\n",
    "    vocab_size = len(word_index) + 1  # Adding again 1 because of reserved 0 index\n",
    "    embedding_matrix = np.zeros((vocab_size, embedding_dim))\n",
    "\n",
    "    with open(filepath) as f:\n",
    "        for line in f:\n",
    "            word, *vector = line.split()\n",
    "            if word in word_index:\n",
    "                idx = word_index[word] \n",
    "                embedding_matrix[idx] = np.array(\n",
    "                    vector, dtype=np.float32)[:embedding_dim]\n",
    "\n",
    "    return embedding_matrix"
   ]
  },
  {
   "cell_type": "code",
   "execution_count": 90,
   "id": "36119365",
   "metadata": {},
   "outputs": [],
   "source": [
    "embedding_dim = 10\n",
    "embedding_matrix = create_embedding_matrix('glove/glove.6B.50d.txt',\n",
    "                                           tokenizer.word_index, embedding_dim)"
   ]
  },
  {
   "cell_type": "code",
   "execution_count": 91,
   "id": "c18f6ecc",
   "metadata": {},
   "outputs": [
    {
     "data": {
      "text/plain": [
       "0.5877929436003091"
      ]
     },
     "execution_count": 91,
     "metadata": {},
     "output_type": "execute_result"
    }
   ],
   "source": [
    "nonzero_elements = np.count_nonzero(np.count_nonzero(embedding_matrix, axis=1))\n",
    "nonzero_elements / vocab_size"
   ]
  },
  {
   "cell_type": "code",
   "execution_count": 102,
   "id": "b2fe8557",
   "metadata": {},
   "outputs": [
    {
     "name": "stdout",
     "output_type": "stream",
     "text": [
      "Model: \"sequential_5\"\n",
      "_________________________________________________________________\n",
      " Layer (type)                Output Shape              Param #   \n",
      "=================================================================\n",
      " embedding_4 (Embedding)     (None, 100, 10)           194150    \n",
      "                                                                 \n",
      " global_max_pooling1d_4 (Glo  (None, 10)               0         \n",
      " balMaxPooling1D)                                                \n",
      "                                                                 \n",
      " dense_8 (Dense)             (None, 10)                110       \n",
      "                                                                 \n",
      " dense_9 (Dense)             (None, 1)                 11        \n",
      "                                                                 \n",
      "=================================================================\n",
      "Total params: 194,271\n",
      "Trainable params: 194,271\n",
      "Non-trainable params: 0\n",
      "_________________________________________________________________\n"
     ]
    }
   ],
   "source": [
    "#build the model\n",
    "from keras import Sequential\n",
    "from keras import layers\n",
    "\n",
    "model = Sequential()\n",
    "model.add(layers.Embedding(vocab_size, embedding_dim, \n",
    "                           weights=[embedding_matrix], \n",
    "                           input_length=maxlen, \n",
    "                           trainable=True))\n",
    "model.add(layers.GlobalMaxPool1D())\n",
    "model.add(layers.Dense(10, activation='relu'))\n",
    "model.add(layers.Dense(1, activation='sigmoid'))\n",
    "model.compile(optimizer='adam',\n",
    "              loss='binary_crossentropy',\n",
    "              metrics=['accuracy'])\n",
    "model.summary()"
   ]
  },
  {
   "cell_type": "code",
   "execution_count": 104,
   "id": "e9b9d154",
   "metadata": {},
   "outputs": [
    {
     "name": "stdout",
     "output_type": "stream",
     "text": [
      "Epoch 1/8\n",
      "905/905 [==============================] - 10s 12ms/step - loss: 0.0736 - accuracy: 0.9724 - val_loss: 0.1324 - val_accuracy: 0.9463\n",
      "Epoch 2/8\n",
      "905/905 [==============================] - 10s 11ms/step - loss: 0.0605 - accuracy: 0.9780 - val_loss: 0.1292 - val_accuracy: 0.9496\n",
      "Epoch 3/8\n",
      "905/905 [==============================] - 10s 11ms/step - loss: 0.0511 - accuracy: 0.9829 - val_loss: 0.1258 - val_accuracy: 0.9536\n",
      "Epoch 4/8\n",
      "905/905 [==============================] - 10s 12ms/step - loss: 0.0424 - accuracy: 0.9860 - val_loss: 0.1255 - val_accuracy: 0.9542\n",
      "Epoch 5/8\n",
      "905/905 [==============================] - 10s 11ms/step - loss: 0.0354 - accuracy: 0.9894 - val_loss: 0.1276 - val_accuracy: 0.9539\n",
      "Epoch 6/8\n",
      "905/905 [==============================] - 11s 12ms/step - loss: 0.0297 - accuracy: 0.9909 - val_loss: 0.1282 - val_accuracy: 0.9559\n",
      "Epoch 7/8\n",
      "905/905 [==============================] - 11s 12ms/step - loss: 0.0249 - accuracy: 0.9928 - val_loss: 0.1318 - val_accuracy: 0.9559\n",
      "Epoch 8/8\n",
      "905/905 [==============================] - 11s 12ms/step - loss: 0.0206 - accuracy: 0.9933 - val_loss: 0.1327 - val_accuracy: 0.9552\n",
      "Training Accuracy: 0.9951\n",
      "Testing Accuracy:  0.9552\n"
     ]
    },
    {
     "data": {
      "image/png": "[encoded data removed]",
      "text/plain": [
       "<Figure size 864x360 with 2 Axes>"
      ]
     },
     "metadata": {},
     "output_type": "display_data"
    }
   ],
   "source": [
    "#train the model\n",
    "history = model.fit(X_train, y_train,\n",
    "                    epochs=8,\n",
    "                    verbose=True,\n",
    "                    validation_data=(X_test, y_test),\n",
    "                    batch_size=10)\n",
    "loss, accuracy = model.evaluate(X_train, y_train, verbose=False)\n",
    "print(\"Training Accuracy: {:.4f}\".format(accuracy))\n",
    "loss, accuracy = model.evaluate(X_test, y_test, verbose=False)\n",
    "print(\"Testing Accuracy:  {:.4f}\".format(accuracy))\n",
    "plot_history(history)"
   ]
  },
  {
   "cell_type": "code",
   "execution_count": 111,
   "id": "b52bc413",
   "metadata": {},
   "outputs": [
    {
     "data": {
      "text/plain": [
       "array([[0.50770646]], dtype=float32)"
      ]
     },
     "execution_count": 111,
     "metadata": {},
     "output_type": "execute_result"
    }
   ],
   "source": [
    "#test examples\n",
    "ex_sent = \"We should lower taxes.\"\n",
    "X_ex_sent = tokenizer.texts_to_sequences([ex_sent])\n",
    "model.predict(pad_sequences(X_ex_sent, padding='post', maxlen=maxlen))"
   ]
  },
  {
   "cell_type": "code",
   "execution_count": null,
   "id": "434321b2",
   "metadata": {},
   "outputs": [],
   "source": []
  }
 ],
 "metadata": {
  "kernelspec": {
   "display_name": "Python 3 (ipykernel)",
   "language": "python",
   "name": "python3"
  },
  "language_info": {
   "codemirror_mode": {
    "name": "ipython",
    "version": 3
   },
   "file_extension": ".py",
   "mimetype": "text/x-python",
   "name": "python",
   "nbconvert_exporter": "python",
   "pygments_lexer": "ipython3",
   "version": "3.8.12"
  }
 },
 "nbformat": 4,
 "nbformat_minor": 5
}
