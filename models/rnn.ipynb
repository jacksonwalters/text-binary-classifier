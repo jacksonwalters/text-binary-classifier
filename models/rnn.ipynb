{
 "cells": [
  {
   "cell_type": "code",
   "execution_count": 33,
   "id": "89ab3750",
   "metadata": {},
   "outputs": [],
   "source": [
    "#USE A RECURRENT NEURAL NETWORK\n",
    "#https://www.tensorflow.org/text/tutorials/text_classification_rnn\n",
    "#code from TensorFlow tutorials\n",
    "#TODO: adapt to use simple tweet data rather than pre-built TF datasets"
   ]
  },
  {
   "cell_type": "code",
   "execution_count": 77,
   "id": "ceffb690",
   "metadata": {},
   "outputs": [],
   "source": [
    "import numpy as np\n",
    "import tensorflow as tf\n",
    "from tensorflow import keras\n",
    "from tensorflow.keras import layers"
   ]
  },
  {
   "cell_type": "code",
   "execution_count": 101,
   "id": "1988a061",
   "metadata": {},
   "outputs": [],
   "source": [
    "#plotting function\n",
    "import matplotlib.pyplot as plt\n",
    "plt.style.use('ggplot')\n",
    "\n",
    "def plot_history(history):\n",
    "    acc = history.history['accuracy']\n",
    "    val_acc = history.history['val_accuracy']\n",
    "    loss = history.history['loss']\n",
    "    val_loss = history.history['val_loss']\n",
    "    x = range(1, len(acc) + 1)\n",
    "\n",
    "    plt.figure(figsize=(12, 5))\n",
    "    plt.subplot(1, 2, 1)\n",
    "    plt.plot(x, acc, 'b', label='Training acc')\n",
    "    plt.plot(x, val_acc, 'r', label='Validation acc')\n",
    "    plt.title('Training and validation accuracy')\n",
    "    plt.legend()\n",
    "    plt.subplot(1, 2, 2)\n",
    "    plt.plot(x, loss, 'b', label='Training loss')\n",
    "    plt.plot(x, val_loss, 'r', label='Validation loss')\n",
    "    plt.title('Training and validation loss')\n",
    "    plt.legend()"
   ]
  },
  {
   "cell_type": "code",
   "execution_count": 78,
   "id": "09abcd90",
   "metadata": {},
   "outputs": [
    {
     "name": "stdout",
     "output_type": "stream",
     "text": [
      "sentence    Tune in 11:30 ET tomorrow for a live webcast o...\n",
      "label                                                       0\n",
      "Name: 0, dtype: object\n"
     ]
    }
   ],
   "source": [
    "#load the data\n",
    "import os\n",
    "import pandas as pd\n",
    "\n",
    "data_path = '/Users/jacksonwalters/tensorflow_datasets/'\n",
    "file_path = 'labeled_tweets/all_labeled_tweets.txt'\n",
    "\n",
    "df_tweet = pd.read_csv(data_path+file_path, names=['sentence', 'label'], sep='\\t')\n",
    "print(df_tweet.iloc[0])"
   ]
  },
  {
   "cell_type": "code",
   "execution_count": 79,
   "id": "50028c52",
   "metadata": {},
   "outputs": [],
   "source": [
    "#vectorize the data and split into train/test\n",
    "from keras.preprocessing.text import Tokenizer\n",
    "from keras.preprocessing.sequence import pad_sequences\n",
    "from sklearn.model_selection import train_test_split\n",
    "\n",
    "tokenizer = Tokenizer(num_words=5000)\n",
    "#get sentences\n",
    "sentences = df_tweet['sentence'].values\n",
    "#tweet sentence sentiment labels. 0 = negative, 1 = positive\n",
    "y = df_tweet['label'].values\n",
    "#split the sentences into training data and test data\n",
    "sentences_train, sentences_test, y_train, y_test = train_test_split(sentences, y, test_size=0.25, random_state=1000)\n",
    "#vectorize the sentences\n",
    "tokenizer.fit_on_texts(sentences_train)\n",
    "X_train = tokenizer.texts_to_sequences(sentences_train)\n",
    "X_test = tokenizer.texts_to_sequences(sentences_test)\n",
    "# Adding 1 because of reserved 0 index\n",
    "vocab_size = len(tokenizer.word_index) + 1 \n",
    "#pad_sequences\n",
    "maxlen = 100\n",
    "X_train = pad_sequences(X_train, padding='post', maxlen=maxlen)\n",
    "X_test = pad_sequences(X_test, padding='post', maxlen=maxlen)"
   ]
  },
  {
   "cell_type": "code",
   "execution_count": 80,
   "id": "4fc37693",
   "metadata": {},
   "outputs": [
    {
     "data": {
      "text/plain": [
       "array([3308,   35,  608,   11,   53,  190,    3,   11,  878,   58,   33,\n",
       "         17, 2798,  498,    6,   13, 1332,  156,  134,   77,    7,  147,\n",
       "        348,    1, 1781,   35,   19,   21,  339,   11,   18,    8,    9,\n",
       "         10, 1064,    8,    9,   10,    0,    0,    0,    0,    0,    0,\n",
       "          0,    0,    0,    0,    0,    0,    0,    0,    0,    0,    0,\n",
       "          0,    0,    0,    0,    0,    0,    0,    0,    0,    0,    0,\n",
       "          0,    0,    0,    0,    0,    0,    0,    0,    0,    0,    0,\n",
       "          0,    0,    0,    0,    0,    0,    0,    0,    0,    0,    0,\n",
       "          0,    0,    0,    0,    0,    0,    0,    0,    0,    0,    0,\n",
       "          0], dtype=int32)"
      ]
     },
     "execution_count": 80,
     "metadata": {},
     "output_type": "execute_result"
    }
   ],
   "source": [
    "X_train[0]"
   ]
  },
  {
   "cell_type": "code",
   "execution_count": 262,
   "id": "344f5f53",
   "metadata": {},
   "outputs": [
    {
     "name": "stdout",
     "output_type": "stream",
     "text": [
      "Model: \"sequential_25\"\n",
      "_________________________________________________________________\n",
      " Layer (type)                Output Shape              Param #   \n",
      "=================================================================\n",
      " embedding_25 (Embedding)    (None, 100, 64)           1242560   \n",
      "                                                                 \n",
      " bidirectional_27 (Bidirecti  (None, 128)              66048     \n",
      " onal)                                                           \n",
      "                                                                 \n",
      " dense_50 (Dense)            (None, 64)                8256      \n",
      "                                                                 \n",
      " dense_51 (Dense)            (None, 1)                 65        \n",
      "                                                                 \n",
      "=================================================================\n",
      "Total params: 1,316,929\n",
      "Trainable params: 1,316,929\n",
      "Non-trainable params: 0\n",
      "_________________________________________________________________\n"
     ]
    }
   ],
   "source": [
    "from keras import Sequential\n",
    "from keras import layers\n",
    "\n",
    "#define the model using Keras\n",
    "#optionally add or remove LSTM layers using return_sequences=True\n",
    "model = Sequential()\n",
    "model.add(layers.Embedding(input_dim=vocab_size,\n",
    "                           input_length=maxlen,\n",
    "                           output_dim=64 \n",
    "                            ))\n",
    "model.add(layers.Bidirectional(tf.keras.layers.LSTM(64)))\n",
    "model.add(layers.Dense(64, activation='relu'))\n",
    "model.add(layers.Dense(1))\n",
    "\n",
    "#compile the model\n",
    "model.compile(loss=tf.keras.losses.BinaryCrossentropy(from_logits=True),\n",
    "              optimizer=tf.keras.optimizers.Adam(1e-4),\n",
    "              metrics=['accuracy'])\n",
    "#summarize the model\n",
    "model.summary()"
   ]
  },
  {
   "cell_type": "code",
   "execution_count": 263,
   "id": "bdc2239a",
   "metadata": {},
   "outputs": [
    {
     "name": "stdout",
     "output_type": "stream",
     "text": [
      "Epoch 1/5\n"
     ]
    },
    {
     "name": "stderr",
     "output_type": "stream",
     "text": [
      "2022-01-16 23:38:01.939213: I tensorflow/core/grappler/optimizers/custom_graph_optimizer_registry.cc:112] Plugin optimizer for device_type GPU is enabled.\n",
      "2022-01-16 23:38:02.230163: I tensorflow/core/grappler/optimizers/custom_graph_optimizer_registry.cc:112] Plugin optimizer for device_type GPU is enabled.\n",
      "2022-01-16 23:38:02.240668: I tensorflow/core/grappler/optimizers/custom_graph_optimizer_registry.cc:112] Plugin optimizer for device_type GPU is enabled.\n",
      "2022-01-16 23:38:02.564254: I tensorflow/core/grappler/optimizers/custom_graph_optimizer_registry.cc:112] Plugin optimizer for device_type GPU is enabled.\n",
      "2022-01-16 23:38:02.578971: I tensorflow/core/grappler/optimizers/custom_graph_optimizer_registry.cc:112] Plugin optimizer for device_type GPU is enabled.\n"
     ]
    },
    {
     "name": "stdout",
     "output_type": "stream",
     "text": [
      "905/905 [==============================] - ETA: 0s - loss: 0.6685 - accuracy: 0.5312"
     ]
    },
    {
     "name": "stderr",
     "output_type": "stream",
     "text": [
      "2022-01-16 23:39:00.425705: I tensorflow/core/grappler/optimizers/custom_graph_optimizer_registry.cc:112] Plugin optimizer for device_type GPU is enabled.\n",
      "2022-01-16 23:39:00.532879: I tensorflow/core/grappler/optimizers/custom_graph_optimizer_registry.cc:112] Plugin optimizer for device_type GPU is enabled.\n",
      "2022-01-16 23:39:00.540502: I tensorflow/core/grappler/optimizers/custom_graph_optimizer_registry.cc:112] Plugin optimizer for device_type GPU is enabled.\n"
     ]
    },
    {
     "name": "stdout",
     "output_type": "stream",
     "text": [
      "905/905 [==============================] - 66s 71ms/step - loss: 0.6685 - accuracy: 0.5312 - val_loss: 0.5170 - val_accuracy: 0.7765\n",
      "Epoch 2/5\n",
      "905/905 [==============================] - 62s 68ms/step - loss: 0.2395 - accuracy: 0.9006 - val_loss: 0.1792 - val_accuracy: 0.9343\n",
      "Epoch 3/5\n",
      "905/905 [==============================] - 63s 69ms/step - loss: 0.1335 - accuracy: 0.9474 - val_loss: 0.1315 - val_accuracy: 0.9469\n",
      "Epoch 4/5\n",
      "905/905 [==============================] - 63s 70ms/step - loss: 0.0957 - accuracy: 0.9627 - val_loss: 0.1121 - val_accuracy: 0.9582\n",
      "Epoch 5/5\n",
      "905/905 [==============================] - 63s 70ms/step - loss: 0.0774 - accuracy: 0.9706 - val_loss: 0.1141 - val_accuracy: 0.9499\n"
     ]
    }
   ],
   "source": [
    "#train the model and plot training history\n",
    "history = model.fit(X_train, y_train,\n",
    "                    epochs=5,\n",
    "                    verbose=True,\n",
    "                    validation_data=(X_test, y_test),\n",
    "                    batch_size=10)"
   ]
  },
  {
   "cell_type": "code",
   "execution_count": 264,
   "id": "646f0d2a",
   "metadata": {},
   "outputs": [
    {
     "name": "stdout",
     "output_type": "stream",
     "text": [
      "Training Accuracy: 0.9627\n",
      "Testing Accuracy:  0.9499\n"
     ]
    },
    {
     "data": {
      "image/png": "[encoded data removed]",
      "text/plain": [
       "<Figure size 864x360 with 2 Axes>"
      ]
     },
     "metadata": {},
     "output_type": "display_data"
    }
   ],
   "source": [
    "loss, accuracy = model.evaluate(X_train, y_train, verbose=False)\n",
    "print(\"Training Accuracy: {:.4f}\".format(accuracy))\n",
    "loss, accuracy = model.evaluate(X_test, y_test, verbose=False)\n",
    "print(\"Testing Accuracy:  {:.4f}\".format(accuracy))\n",
    "plot_history(history)"
   ]
  },
  {
   "cell_type": "code",
   "execution_count": 276,
   "id": "8454fe23",
   "metadata": {},
   "outputs": [
    {
     "data": {
      "text/plain": [
       "array([[0.4204297]], dtype=float32)"
      ]
     },
     "execution_count": 276,
     "metadata": {},
     "output_type": "execute_result"
    }
   ],
   "source": [
    "#sample predictions on trained model\n",
    "sample_text = 'mike pence'\n",
    "X_ex_sent = tokenizer.texts_to_sequences([sample_text])\n",
    "model.predict(pad_sequences(X_ex_sent, padding='post', maxlen=maxlen))"
   ]
  },
  {
   "cell_type": "code",
   "execution_count": 178,
   "id": "12ba1160",
   "metadata": {},
   "outputs": [
    {
     "data": {
      "text/html": [
       "<div>\n",
       "<style scoped>\n",
       "    .dataframe tbody tr th:only-of-type {\n",
       "        vertical-align: middle;\n",
       "    }\n",
       "\n",
       "    .dataframe tbody tr th {\n",
       "        vertical-align: top;\n",
       "    }\n",
       "\n",
       "    .dataframe thead th {\n",
       "        text-align: right;\n",
       "    }\n",
       "</style>\n",
       "<table border=\"1\" class=\"dataframe\">\n",
       "  <thead>\n",
       "    <tr style=\"text-align: right;\">\n",
       "      <th></th>\n",
       "      <th>sentence</th>\n",
       "      <th>label</th>\n",
       "    </tr>\n",
       "  </thead>\n",
       "  <tbody>\n",
       "    <tr>\n",
       "      <th>0</th>\n",
       "      <td>Tune in 11:30 ET tomorrow for a live webcast o...</td>\n",
       "      <td>0</td>\n",
       "    </tr>\n",
       "    <tr>\n",
       "      <th>1</th>\n",
       "      <td>Iowans, there's a good chance there's a Biden ...</td>\n",
       "      <td>0</td>\n",
       "    </tr>\n",
       "    <tr>\n",
       "      <th>2</th>\n",
       "      <td>We're excited to announce that @JoeBiden is be...</td>\n",
       "      <td>0</td>\n",
       "    </tr>\n",
       "    <tr>\n",
       "      <th>3</th>\n",
       "      <td>Campaign staff will run this account to keep y...</td>\n",
       "      <td>0</td>\n",
       "    </tr>\n",
       "    <tr>\n",
       "      <th>4</th>\n",
       "      <td>News for you this morning: VP Biden will speak...</td>\n",
       "      <td>0</td>\n",
       "    </tr>\n",
       "    <tr>\n",
       "      <th>5</th>\n",
       "      <td>In NH on 4/12, the Vice President will give hi...</td>\n",
       "      <td>0</td>\n",
       "    </tr>\n",
       "    <tr>\n",
       "      <th>6</th>\n",
       "      <td>I’m for the Buffett Rule because it just makes...</td>\n",
       "      <td>0</td>\n",
       "    </tr>\n",
       "    <tr>\n",
       "      <th>7</th>\n",
       "      <td>During a recent campaign stop in Ohio, VP Bide...</td>\n",
       "      <td>0</td>\n",
       "    </tr>\n",
       "    <tr>\n",
       "      <th>8</th>\n",
       "      <td>Favorite Joe photos, volume 1: http://t.co/Xt0...</td>\n",
       "      <td>0</td>\n",
       "    </tr>\n",
       "    <tr>\n",
       "      <th>9</th>\n",
       "      <td>The VP will be speaking in NH on Thursday abou...</td>\n",
       "      <td>0</td>\n",
       "    </tr>\n",
       "    <tr>\n",
       "      <th>10</th>\n",
       "      <td>Joe: \"We're not only fighting to keep jobs in ...</td>\n",
       "      <td>0</td>\n",
       "    </tr>\n",
       "    <tr>\n",
       "      <th>11</th>\n",
       "      <td>Congress is scheduled to vote on the Buffett R...</td>\n",
       "      <td>0</td>\n",
       "    </tr>\n",
       "    <tr>\n",
       "      <th>12</th>\n",
       "      <td>RT @BarackObama: The Republican primary is all...</td>\n",
       "      <td>0</td>\n",
       "    </tr>\n",
       "    <tr>\n",
       "      <th>13</th>\n",
       "      <td>Heads up: We'll be livestreaming the Vice Pres...</td>\n",
       "      <td>0</td>\n",
       "    </tr>\n",
       "    <tr>\n",
       "      <th>14</th>\n",
       "      <td>High five. http://t.co/ZNnRhyVE</td>\n",
       "      <td>0</td>\n",
       "    </tr>\n",
       "    <tr>\n",
       "      <th>15</th>\n",
       "      <td>RT @OFA_NH: #Exeter gets ready for @JoeBiden’s...</td>\n",
       "      <td>0</td>\n",
       "    </tr>\n",
       "    <tr>\n",
       "      <th>16</th>\n",
       "      <td>Compare your tax rate to Mitt Romney's: http:/...</td>\n",
       "      <td>0</td>\n",
       "    </tr>\n",
       "    <tr>\n",
       "      <th>17</th>\n",
       "      <td>The Vice President is speaking about the #Buff...</td>\n",
       "      <td>0</td>\n",
       "    </tr>\n",
       "    <tr>\n",
       "      <th>18</th>\n",
       "      <td>Watch Vice President Biden’s speech live: http...</td>\n",
       "      <td>0</td>\n",
       "    </tr>\n",
       "    <tr>\n",
       "      <th>19</th>\n",
       "      <td>The Vice President's speech will be live-tweet...</td>\n",
       "      <td>0</td>\n",
       "    </tr>\n",
       "  </tbody>\n",
       "</table>\n",
       "</div>"
      ],
      "text/plain": [
       "                                             sentence  label\n",
       "0   Tune in 11:30 ET tomorrow for a live webcast o...      0\n",
       "1   Iowans, there's a good chance there's a Biden ...      0\n",
       "2   We're excited to announce that @JoeBiden is be...      0\n",
       "3   Campaign staff will run this account to keep y...      0\n",
       "4   News for you this morning: VP Biden will speak...      0\n",
       "5   In NH on 4/12, the Vice President will give hi...      0\n",
       "6   I’m for the Buffett Rule because it just makes...      0\n",
       "7   During a recent campaign stop in Ohio, VP Bide...      0\n",
       "8   Favorite Joe photos, volume 1: http://t.co/Xt0...      0\n",
       "9   The VP will be speaking in NH on Thursday abou...      0\n",
       "10  Joe: \"We're not only fighting to keep jobs in ...      0\n",
       "11  Congress is scheduled to vote on the Buffett R...      0\n",
       "12  RT @BarackObama: The Republican primary is all...      0\n",
       "13  Heads up: We'll be livestreaming the Vice Pres...      0\n",
       "14                    High five. http://t.co/ZNnRhyVE      0\n",
       "15  RT @OFA_NH: #Exeter gets ready for @JoeBiden’s...      0\n",
       "16  Compare your tax rate to Mitt Romney's: http:/...      0\n",
       "17  The Vice President is speaking about the #Buff...      0\n",
       "18  Watch Vice President Biden’s speech live: http...      0\n",
       "19  The Vice President's speech will be live-tweet...      0"
      ]
     },
     "execution_count": 178,
     "metadata": {},
     "output_type": "execute_result"
    }
   ],
   "source": [
    "df_tweet[:20]"
   ]
  },
  {
   "cell_type": "code",
   "execution_count": null,
   "id": "21fd5ac3",
   "metadata": {},
   "outputs": [],
   "source": []
  }
 ],
 "metadata": {
  "kernelspec": {
   "display_name": "Python 3 (ipykernel)",
   "language": "python",
   "name": "python3"
  },
  "language_info": {
   "codemirror_mode": {
    "name": "ipython",
    "version": 3
   },
   "file_extension": ".py",
   "mimetype": "text/x-python",
   "name": "python",
   "nbconvert_exporter": "python",
   "pygments_lexer": "ipython3",
   "version": "3.8.12"
  }
 },
 "nbformat": 4,
 "nbformat_minor": 5
}
