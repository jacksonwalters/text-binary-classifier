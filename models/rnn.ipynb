{
 "cells": [
  {
   "cell_type": "code",
   "execution_count": 2,
   "id": "89ab3750",
   "metadata": {},
   "outputs": [],
   "source": [
    "#https://www.tensorflow.org/text/tutorials/text_classification_rnn\n",
    "#code from TensorFlow tutorials\n",
    "#TODO: adapt to use simple tweet data rather than pre-built TF datasets"
   ]
  },
  {
   "cell_type": "code",
   "execution_count": 27,
   "id": "ceffb690",
   "metadata": {},
   "outputs": [],
   "source": [
    "import numpy as np\n",
    "import tensorflow as tf\n",
    "import tensorflow_datasets as tfds\n",
    "from tensorflow import keras\n",
    "from tensorflow.keras import layers"
   ]
  },
  {
   "cell_type": "code",
   "execution_count": 28,
   "id": "0958a7ce",
   "metadata": {},
   "outputs": [],
   "source": [
    "tfds.disable_progress_bar()"
   ]
  },
  {
   "cell_type": "code",
   "execution_count": 29,
   "id": "4fc37693",
   "metadata": {},
   "outputs": [],
   "source": [
    "import matplotlib.pyplot as plt\n",
    "\n",
    "\n",
    "def plot_graphs(history, metric):\n",
    "  plt.plot(history.history[metric])\n",
    "  plt.plot(history.history['val_'+metric], '')\n",
    "  plt.xlabel(\"Epochs\")\n",
    "  plt.ylabel(metric)\n",
    "  plt.legend([metric, 'val_'+metric])"
   ]
  },
  {
   "cell_type": "code",
   "execution_count": 30,
   "id": "ab483d0f",
   "metadata": {},
   "outputs": [],
   "source": [
    "dataset, info = tfds.load('imdb_reviews', with_info=True,\n",
    "                          as_supervised=True)"
   ]
  },
  {
   "cell_type": "code",
   "execution_count": 31,
   "id": "6af7527a",
   "metadata": {},
   "outputs": [],
   "source": [
    "train_dataset, test_dataset = dataset['train'], dataset['test']"
   ]
  },
  {
   "cell_type": "code",
   "execution_count": 32,
   "id": "f074e783",
   "metadata": {},
   "outputs": [
    {
     "data": {
      "text/plain": [
       "(TensorSpec(shape=(), dtype=tf.string, name=None),\n",
       " TensorSpec(shape=(), dtype=tf.int64, name=None))"
      ]
     },
     "execution_count": 32,
     "metadata": {},
     "output_type": "execute_result"
    }
   ],
   "source": [
    "train_dataset.element_spec"
   ]
  },
  {
   "cell_type": "code",
   "execution_count": 33,
   "id": "04de82db",
   "metadata": {
    "scrolled": true
   },
   "outputs": [
    {
     "name": "stdout",
     "output_type": "stream",
     "text": [
      "text:  b\"This was an absolutely terrible movie. Don't be lured in by Christopher Walken or Michael Ironside. Both are great actors, but this must simply be their worst role in history. Even their great acting could not redeem this movie's ridiculous storyline. This movie is an early nineties US propaganda piece. The most pathetic scenes were those when the Columbian rebels were making their cases for revolutions. Maria Conchita Alonso appeared phony, and her pseudo-love affair with Walken was nothing but a pathetic emotional plug in a movie that was devoid of any real meaning. I am disappointed that there are movies like this, ruining actor's like Christopher Walken's good name. I could barely sit through it.\"\n",
      "label:  0\n"
     ]
    },
    {
     "name": "stderr",
     "output_type": "stream",
     "text": [
      "2022-01-15 15:13:58.112917: W tensorflow/core/kernels/data/cache_dataset_ops.cc:768] The calling iterator did not fully read the dataset being cached. In order to avoid unexpected truncation of the dataset, the partially cached contents of the dataset  will be discarded. This can happen if you have an input pipeline similar to `dataset.cache().take(k).repeat()`. You should use `dataset.take(k).cache().repeat()` instead.\n"
     ]
    }
   ],
   "source": [
    "for example, label in train_dataset.take(1):\n",
    "  print('text: ', example.numpy())\n",
    "  print('label: ', label.numpy())"
   ]
  },
  {
   "cell_type": "code",
   "execution_count": 34,
   "id": "8bb9979b",
   "metadata": {},
   "outputs": [],
   "source": [
    "BUFFER_SIZE = 10000\n",
    "BATCH_SIZE = 64"
   ]
  },
  {
   "cell_type": "code",
   "execution_count": 35,
   "id": "848d5964",
   "metadata": {},
   "outputs": [],
   "source": [
    "train_dataset = train_dataset.shuffle(BUFFER_SIZE).batch(BATCH_SIZE).prefetch(tf.data.AUTOTUNE)\n",
    "test_dataset = test_dataset.batch(BATCH_SIZE).prefetch(tf.data.AUTOTUNE)"
   ]
  },
  {
   "cell_type": "code",
   "execution_count": 36,
   "id": "28d65b1e",
   "metadata": {},
   "outputs": [
    {
     "name": "stdout",
     "output_type": "stream",
     "text": [
      "texts:  [b'\"La Lupa Mannara\" aka. \"Werewolf Woman\" of 1976 is a film with a highly promising title, but, sadly, the film itself is pretty far away from being a must-see for my fellow Italian Horror buffs. You won\\'t hear me say that Rino Di Silvestri\\'s film is entirely bad - it has its stylish moments, and the first half is actually great fun to watch (though the fun is unintentional). The film also profits from an exceptionally exhibitionist leading actress, Annik Borel. However, the film, which has no real plot (at least no linear one) often makes no sense at all, and it drags incredibly throughout the mostly superfluous second half.<br /><br />Daniella (Annik Borel) has strange dreams about a dancing around naked in the night before turning into a Werewolf Woman. Since she was a raped as a girl, Daniella is afraid of men. Then, when her sister (cult siren Dagmar Lassander) comes to visit with her husband, Daniella suddenly feels attracted to the husband and subsequently turns into a Werewolf Woman herself... or something. The storyline really doesn\\'t make the slightest sense, which makes the film a lot of fun to watch throughout the first half. The leading character Daniella is some schizophrenic mixture of frigid hysteric and lusty nymphomaniac, who occasionally turns into a werewolf woman. Director Di Silvestri chose to make up for the plot-holes with a lot of of female nudity, which works fine for me. There are also some pretty well-done gore moments. The film is never even slightly suspenseful or creepy, but it is very entertaining in the beginning. Also, there are no attempts to hide that this is a slice of sleaze, the camera often does close-ups on the Miss Borel\\'s private parts for the simple heck of it. I\\'m not complaining. Then, for some reason, Di Silvestri chose to make the film longer by completely changing the direction in which it was going. While Daniella is, at first, a typical werewolf, who cannot help but follow the urges of her curse, this suddenly changes when she meets a guy (Howard Ross, who was in Fernando Di Leo\\'s \"Il Boss\" of 1973). Suddenly, she goes back to normal again, and the subsequent part of the film does not at all go in hand with the first half. It gets pretty damn boring after a while; all things considered, it probably would have been better for this 99 minute film to be only 70 minutes long. At the end, they even want to make us believe that the absurd story (if one can call it that) is based on true events. \"Werewolf Woman\" has some redeeming qualities; my fellow Italo-Horror fans can give it a try. However, if you wanna watch Italian Horror/Exploitation cinema from the 70s, there are hundreds of films that you should see before seeing this one.'\n",
      " b'I generally don\\'t give worry much about violence in films, or a vast amount of philosophy, symbolism or psychology. All this is very well with me and the film brings a lot of the above to us. There is beautiful pictures especially of the lake and the nature, a good setting of characters, a good direction. This film could be voted for as a good film. However, it is spoiled for two reasons and both of these reasons in relation make this film simply disgusting.<br /><br />First of all there is violence used against living creatures to make this film. Not movie violence, I am talking about REAL violence. This violence alone maybe could be justified if not and thats reason number two; the message of the film was not mere introspection about the directors twisted relation towards women. Not that we all don\\'t have some real twists with women.(respectively men). But the conclusion of the film ruins it all. <br /><br />*spoiler* Our \"heroine\" finally dies, (by here own hand if I remember correctly I saw this film years ago and it enraged me, now the guy is out with a new film witch I am certainly not going to watch)and is now even more clearly depicted as some kind of natural demon, nature growing over her, in particular her sex.. Of course it is the director who \"kills\" the women heroine. Women have to die, especially if men are attracted by their sexuality. That seems to be the final conclusion.**end spoiler*<br /><br />Well, well all that possibly would be fine with me if the director would have kept his view to himself. But to use big pictures, artsy directions cruelty to living creatures, just to say men can be frightened of women, and men are cruel to women. Thats just not enough. I knew when I saw this film it would achieve good critics for the \"philosophical, eastern and artistic\" and whatever approach. But to me this film is just totally marred.'\n",
      " b\"Well... easily my favourite TV series ever. Call me a walking mail clich\\xc3\\xa9 but include violence, mafia, sex, gambling, drugs etc. on a show and you're already winning points on in my book. Combine all that with acting that superceeds anything you've ever seen on the small screen, add directing that fits cinema of the vintage type and most of all writing that blows the mind (and a few brains a long the way) and you got yourself a show thats gonna be pretty tough to compete with.<br /><br />Above all stand two actors, James Gandolfini as Tony Soprano, and Edie Falco as His wife Carmela... as for Gandolfini, he fits his roll in a way that words cannot express, if you haven't seen him as tony yet see it now!<br /><br />I can go on and on and on about every character in the show, the psychological brilliance, the gripping scenes etc. but you wouldn't be able to stop me so all I can say is that this is about the only show along with Seinfeld, that I am able to watch over and over again from start to finish and end up enjoying it even more.\"]\n",
      "\n",
      "labels:  [0 0 1]\n"
     ]
    },
    {
     "name": "stderr",
     "output_type": "stream",
     "text": [
      "2022-01-15 15:13:58.257290: W tensorflow/core/kernels/data/cache_dataset_ops.cc:768] The calling iterator did not fully read the dataset being cached. In order to avoid unexpected truncation of the dataset, the partially cached contents of the dataset  will be discarded. This can happen if you have an input pipeline similar to `dataset.cache().take(k).repeat()`. You should use `dataset.take(k).cache().repeat()` instead.\n"
     ]
    }
   ],
   "source": [
    "for example, label in train_dataset.take(1):\n",
    "  print('texts: ', example.numpy()[:3])\n",
    "  print()\n",
    "  print('labels: ', label.numpy()[:3])"
   ]
  },
  {
   "cell_type": "code",
   "execution_count": 37,
   "id": "139a6871",
   "metadata": {},
   "outputs": [],
   "source": [
    "VOCAB_SIZE = 1000"
   ]
  },
  {
   "cell_type": "code",
   "execution_count": 38,
   "id": "14e6b388",
   "metadata": {},
   "outputs": [],
   "source": [
    "encoder = tf.keras.layers.TextVectorization(max_tokens=VOCAB_SIZE)"
   ]
  },
  {
   "cell_type": "code",
   "execution_count": 39,
   "id": "556b03dc",
   "metadata": {},
   "outputs": [
    {
     "name": "stderr",
     "output_type": "stream",
     "text": [
      "2022-01-15 15:13:58.293966: I tensorflow/core/grappler/optimizers/custom_graph_optimizer_registry.cc:112] Plugin optimizer for device_type GPU is enabled.\n"
     ]
    }
   ],
   "source": [
    "encoder.adapt(train_dataset.map(lambda text, label: text))"
   ]
  },
  {
   "cell_type": "code",
   "execution_count": 40,
   "id": "ecbabce7",
   "metadata": {},
   "outputs": [],
   "source": [
    "vocab = np.array(encoder.get_vocabulary())"
   ]
  },
  {
   "cell_type": "code",
   "execution_count": 41,
   "id": "fcb372bd",
   "metadata": {},
   "outputs": [
    {
     "data": {
      "text/plain": [
       "array(['', '[UNK]', 'the', 'and', 'a', 'of', 'to', 'is', 'in', 'it', 'i',\n",
       "       'this', 'that', 'br', 'was', 'as', 'for', 'with', 'movie', 'but'],\n",
       "      dtype='<U14')"
      ]
     },
     "execution_count": 41,
     "metadata": {},
     "output_type": "execute_result"
    }
   ],
   "source": [
    "vocab[:20]"
   ]
  },
  {
   "cell_type": "code",
   "execution_count": 45,
   "id": "421ca89b",
   "metadata": {},
   "outputs": [
    {
     "data": {
      "text/plain": [
       "array([[979,   1,   1, ...,   0,   0,   0],\n",
       "       [ 10,   1,  90, ...,   0,   0,   0],\n",
       "       [ 74, 685,  56, ...,   0,   0,   0]])"
      ]
     },
     "execution_count": 45,
     "metadata": {},
     "output_type": "execute_result"
    }
   ],
   "source": [
    "#typical text encoding via vocab (sorted by frequency) indexing\n",
    "encoded_example = encoder(example)[:3].numpy(); encoded_example"
   ]
  },
  {
   "cell_type": "code",
   "execution_count": 44,
   "id": "0ac4dba4",
   "metadata": {},
   "outputs": [
    {
     "name": "stdout",
     "output_type": "stream",
     "text": [
      "Original:  b'\"La Lupa Mannara\" aka. \"Werewolf Woman\" of 1976 is a film with a highly promising title, but, sadly, the film itself is pretty far away from being a must-see for my fellow Italian Horror buffs. You won\\'t hear me say that Rino Di Silvestri\\'s film is entirely bad - it has its stylish moments, and the first half is actually great fun to watch (though the fun is unintentional). The film also profits from an exceptionally exhibitionist leading actress, Annik Borel. However, the film, which has no real plot (at least no linear one) often makes no sense at all, and it drags incredibly throughout the mostly superfluous second half.<br /><br />Daniella (Annik Borel) has strange dreams about a dancing around naked in the night before turning into a Werewolf Woman. Since she was a raped as a girl, Daniella is afraid of men. Then, when her sister (cult siren Dagmar Lassander) comes to visit with her husband, Daniella suddenly feels attracted to the husband and subsequently turns into a Werewolf Woman herself... or something. The storyline really doesn\\'t make the slightest sense, which makes the film a lot of fun to watch throughout the first half. The leading character Daniella is some schizophrenic mixture of frigid hysteric and lusty nymphomaniac, who occasionally turns into a werewolf woman. Director Di Silvestri chose to make up for the plot-holes with a lot of of female nudity, which works fine for me. There are also some pretty well-done gore moments. The film is never even slightly suspenseful or creepy, but it is very entertaining in the beginning. Also, there are no attempts to hide that this is a slice of sleaze, the camera often does close-ups on the Miss Borel\\'s private parts for the simple heck of it. I\\'m not complaining. Then, for some reason, Di Silvestri chose to make the film longer by completely changing the direction in which it was going. While Daniella is, at first, a typical werewolf, who cannot help but follow the urges of her curse, this suddenly changes when she meets a guy (Howard Ross, who was in Fernando Di Leo\\'s \"Il Boss\" of 1973). Suddenly, she goes back to normal again, and the subsequent part of the film does not at all go in hand with the first half. It gets pretty damn boring after a while; all things considered, it probably would have been better for this 99 minute film to be only 70 minutes long. At the end, they even want to make us believe that the absurd story (if one can call it that) is based on true events. \"Werewolf Woman\" has some redeeming qualities; my fellow Italo-Horror fans can give it a try. However, if you wanna watch Italian Horror/Exploitation cinema from the 70s, there are hundreds of films that you should see before seeing this one.'\n",
      "Round-trip:  la [UNK] [UNK] [UNK] [UNK] woman of [UNK] is a film with a highly [UNK] title but [UNK] the film itself is pretty far away from being a [UNK] for my [UNK] [UNK] horror [UNK] you wont hear me say that [UNK] [UNK] [UNK] film is [UNK] bad it has its [UNK] moments and the first half is actually great fun to watch though the fun is [UNK] the film also [UNK] from an [UNK] [UNK] leading actress [UNK] [UNK] however the film which has no real plot at least no [UNK] one often makes no sense at all and it [UNK] incredibly throughout the mostly [UNK] second [UNK] br [UNK] [UNK] [UNK] has strange [UNK] about a [UNK] around [UNK] in the night before [UNK] into a [UNK] woman since she was a [UNK] as a girl [UNK] is [UNK] of men then when her sister [UNK] [UNK] [UNK] [UNK] comes to [UNK] with her husband [UNK] [UNK] feels [UNK] to the husband and [UNK] turns into a [UNK] woman herself or something the storyline really doesnt make the [UNK] sense which makes the film a lot of fun to watch throughout the first half the leading character [UNK] is some [UNK] [UNK] of [UNK] [UNK] and [UNK] [UNK] who [UNK] turns into a [UNK] woman director [UNK] [UNK] [UNK] to make up for the [UNK] with a lot of of female [UNK] which works fine for me there are also some pretty [UNK] gore moments the film is never even [UNK] [UNK] or creepy but it is very entertaining in the beginning also there are no attempts to [UNK] that this is a [UNK] of [UNK] the camera often does [UNK] on the miss [UNK] [UNK] parts for the simple [UNK] of it im not [UNK] then for some reason [UNK] [UNK] [UNK] to make the film [UNK] by completely [UNK] the direction in which it was going while [UNK] is at first a typical [UNK] who cannot help but follow the [UNK] of her [UNK] this [UNK] [UNK] when she meets a guy [UNK] [UNK] who was in [UNK] [UNK] [UNK] [UNK] [UNK] of [UNK] [UNK] she goes back to [UNK] again and the [UNK] part of the film does not at all go in hand with the first half it gets pretty [UNK] boring after a while all things [UNK] it probably would have been better for this [UNK] minute film to be only [UNK] minutes long at the end they even want to make us believe that the [UNK] story if one can call it that is based on true events [UNK] woman has some [UNK] [UNK] my [UNK] [UNK] fans can give it a try however if you [UNK] watch [UNK] [UNK] cinema from the 70s there are [UNK] of films that you should see before seeing this one                                                                                                                                                                                                                                                                                                                                                                                                                                                                                                              \n",
      "\n",
      "Original:  b'I generally don\\'t give worry much about violence in films, or a vast amount of philosophy, symbolism or psychology. All this is very well with me and the film brings a lot of the above to us. There is beautiful pictures especially of the lake and the nature, a good setting of characters, a good direction. This film could be voted for as a good film. However, it is spoiled for two reasons and both of these reasons in relation make this film simply disgusting.<br /><br />First of all there is violence used against living creatures to make this film. Not movie violence, I am talking about REAL violence. This violence alone maybe could be justified if not and thats reason number two; the message of the film was not mere introspection about the directors twisted relation towards women. Not that we all don\\'t have some real twists with women.(respectively men). But the conclusion of the film ruins it all. <br /><br />*spoiler* Our \"heroine\" finally dies, (by here own hand if I remember correctly I saw this film years ago and it enraged me, now the guy is out with a new film witch I am certainly not going to watch)and is now even more clearly depicted as some kind of natural demon, nature growing over her, in particular her sex.. Of course it is the director who \"kills\" the women heroine. Women have to die, especially if men are attracted by their sexuality. That seems to be the final conclusion.**end spoiler*<br /><br />Well, well all that possibly would be fine with me if the director would have kept his view to himself. But to use big pictures, artsy directions cruelty to living creatures, just to say men can be frightened of women, and men are cruel to women. Thats just not enough. I knew when I saw this film it would achieve good critics for the \"philosophical, eastern and artistic\" and whatever approach. But to me this film is just totally marred.'\n",
      "Round-trip:  i [UNK] dont give [UNK] much about violence in films or a [UNK] [UNK] of [UNK] [UNK] or [UNK] all this is very well with me and the film brings a lot of the above to us there is beautiful [UNK] especially of the [UNK] and the nature a good setting of characters a good direction this film could be [UNK] for as a good film however it is [UNK] for two [UNK] and both of these [UNK] in [UNK] make this film simply [UNK] br first of all there is violence used against living [UNK] to make this film not movie violence i am talking about real violence this violence alone maybe could be [UNK] if not and thats reason number two the message of the film was not [UNK] [UNK] about the directors [UNK] [UNK] towards women not that we all dont have some real [UNK] with [UNK] men but the [UNK] of the film [UNK] it all br br [UNK] our [UNK] finally [UNK] by here own hand if i remember [UNK] i saw this film years ago and it [UNK] me now the guy is out with a new film [UNK] i am certainly not going to [UNK] is now even more clearly [UNK] as some kind of [UNK] [UNK] nature [UNK] over her in particular her sex of course it is the director who [UNK] the women [UNK] women have to die especially if men are [UNK] by their [UNK] that seems to be the final [UNK] [UNK] br well well all that possibly would be fine with me if the director would have kept his view to himself but to use big [UNK] [UNK] [UNK] [UNK] to living [UNK] just to say men can be [UNK] of women and men are [UNK] to women thats just not enough i knew when i saw this film it would [UNK] good [UNK] for the [UNK] [UNK] and [UNK] and whatever [UNK] but to me this film is just totally [UNK]                                                                                                                                                                                                                                                                                                                                                                                                                                                                                                                                                                                                                                                           \n",
      "\n",
      "Original:  b\"Well... easily my favourite TV series ever. Call me a walking mail clich\\xc3\\xa9 but include violence, mafia, sex, gambling, drugs etc. on a show and you're already winning points on in my book. Combine all that with acting that superceeds anything you've ever seen on the small screen, add directing that fits cinema of the vintage type and most of all writing that blows the mind (and a few brains a long the way) and you got yourself a show thats gonna be pretty tough to compete with.<br /><br />Above all stand two actors, James Gandolfini as Tony Soprano, and Edie Falco as His wife Carmela... as for Gandolfini, he fits his roll in a way that words cannot express, if you haven't seen him as tony yet see it now!<br /><br />I can go on and on and on about every character in the show, the psychological brilliance, the gripping scenes etc. but you wouldn't be able to stop me so all I can say is that this is about the only show along with Seinfeld, that I am able to watch over and over again from start to finish and end up enjoying it even more.\"\n",
      "Round-trip:  well easily my [UNK] tv series ever call me a [UNK] [UNK] [UNK] but [UNK] violence [UNK] sex [UNK] [UNK] etc on a show and youre already [UNK] points on in my book [UNK] all that with acting that [UNK] anything youve ever seen on the small screen add directing that [UNK] cinema of the [UNK] type and most of all writing that [UNK] the mind and a few [UNK] a long the way and you got yourself a show thats [UNK] be pretty [UNK] to [UNK] [UNK] br above all stand two actors james [UNK] as [UNK] [UNK] and [UNK] [UNK] as his wife [UNK] as for [UNK] he [UNK] his [UNK] in a way that words cannot [UNK] if you havent seen him as [UNK] yet see it [UNK] br i can go on and on and on about every character in the show the [UNK] [UNK] the [UNK] scenes etc but you wouldnt be able to stop me so all i can say is that this is about the only show along with [UNK] that i am able to watch over and over again from start to [UNK] and end up [UNK] it even more                                                                                                                                                                                                                                                                                                                                                                                                                                                                                                                                                                                                                                                                                                                                                                                                   \n",
      "\n"
     ]
    }
   ],
   "source": [
    "#the vectorization is a little lossy\n",
    "for n in range(3):\n",
    "  print(\"Original: \", example[n].numpy())\n",
    "  print(\"Round-trip: \", \" \".join(vocab[encoded_example[n]]))\n",
    "  print()"
   ]
  },
  {
   "cell_type": "code",
   "execution_count": 51,
   "id": "344f5f53",
   "metadata": {},
   "outputs": [],
   "source": [
    "model = tf.keras.Sequential([\n",
    "    encoder,\n",
    "    tf.keras.layers.Embedding(\n",
    "        input_dim=len(encoder.get_vocabulary()),\n",
    "        output_dim=64,\n",
    "        # Use masking to handle the variable sequence lengths\n",
    "        mask_zero=True),\n",
    "    tf.keras.layers.Bidirectional(tf.keras.layers.LSTM(64)),\n",
    "    tf.keras.layers.Dense(64, activation='relu'),\n",
    "    tf.keras.layers.Dense(1)\n",
    "])"
   ]
  },
  {
   "cell_type": "code",
   "execution_count": 64,
   "id": "1842fad6",
   "metadata": {},
   "outputs": [],
   "source": [
    "sample_text = ('This movie was terrible. I hated it. I never want to see it again. It was the worst. A bad movie. Truly awful.')"
   ]
  },
  {
   "cell_type": "code",
   "execution_count": 65,
   "id": "37e4daf4",
   "metadata": {},
   "outputs": [],
   "source": [
    "predictions = model.predict(np.array([sample_text]))"
   ]
  },
  {
   "cell_type": "code",
   "execution_count": 66,
   "id": "e230f5b5",
   "metadata": {},
   "outputs": [
    {
     "name": "stdout",
     "output_type": "stream",
     "text": [
      "[-0.01128443]\n"
     ]
    }
   ],
   "source": [
    "print(predictions[0])"
   ]
  },
  {
   "cell_type": "code",
   "execution_count": 67,
   "id": "6a68ff96",
   "metadata": {},
   "outputs": [],
   "source": [
    "model.compile(loss=tf.keras.losses.BinaryCrossentropy(from_logits=True),\n",
    "              optimizer=tf.keras.optimizers.Adam(1e-4),\n",
    "              metrics=['accuracy'])"
   ]
  },
  {
   "cell_type": "code",
   "execution_count": 68,
   "id": "77b49809",
   "metadata": {},
   "outputs": [
    {
     "name": "stdout",
     "output_type": "stream",
     "text": [
      "Model: \"sequential_5\"\n",
      "_________________________________________________________________\n",
      " Layer (type)                Output Shape              Param #   \n",
      "=================================================================\n",
      " text_vectorization_1 (TextV  (None, None)             0         \n",
      " ectorization)                                                   \n",
      "                                                                 \n",
      " embedding_5 (Embedding)     (None, None, 64)          64000     \n",
      "                                                                 \n",
      " bidirectional_4 (Bidirectio  (None, 128)              66048     \n",
      " nal)                                                            \n",
      "                                                                 \n",
      " dense_9 (Dense)             (None, 64)                8256      \n",
      "                                                                 \n",
      " dense_10 (Dense)            (None, 1)                 65        \n",
      "                                                                 \n",
      "=================================================================\n",
      "Total params: 138,369\n",
      "Trainable params: 138,369\n",
      "Non-trainable params: 0\n",
      "_________________________________________________________________\n"
     ]
    }
   ],
   "source": [
    "model.summary()"
   ]
  },
  {
   "cell_type": "code",
   "execution_count": 69,
   "id": "bdc2239a",
   "metadata": {},
   "outputs": [
    {
     "name": "stdout",
     "output_type": "stream",
     "text": [
      "Epoch 1/10\n"
     ]
    },
    {
     "name": "stderr",
     "output_type": "stream",
     "text": [
      "2022-01-15 15:23:24.096271: I tensorflow/core/grappler/optimizers/custom_graph_optimizer_registry.cc:112] Plugin optimizer for device_type GPU is enabled.\n",
      "2022-01-15 15:23:24.559156: I tensorflow/core/grappler/optimizers/custom_graph_optimizer_registry.cc:112] Plugin optimizer for device_type GPU is enabled.\n",
      "2022-01-15 15:23:24.662755: I tensorflow/core/grappler/optimizers/custom_graph_optimizer_registry.cc:112] Plugin optimizer for device_type GPU is enabled.\n",
      "2022-01-15 15:23:27.900393: I tensorflow/core/grappler/optimizers/custom_graph_optimizer_registry.cc:112] Plugin optimizer for device_type GPU is enabled.\n",
      "2022-01-15 15:23:28.007434: I tensorflow/core/grappler/optimizers/custom_graph_optimizer_registry.cc:112] Plugin optimizer for device_type GPU is enabled.\n"
     ]
    },
    {
     "name": "stdout",
     "output_type": "stream",
     "text": [
      " 30/391 [=>............................] - ETA: 1:03:36 - loss: 0.6932 - accuracy: 0.4911"
     ]
    },
    {
     "ename": "KeyboardInterrupt",
     "evalue": "",
     "output_type": "error",
     "traceback": [
      "\u001b[0;31m---------------------------------------------------------------------------\u001b[0m",
      "\u001b[0;31mKeyboardInterrupt\u001b[0m                         Traceback (most recent call last)",
      "\u001b[0;32m/var/folders/4d/rp7dhwss6znf18sks0v304d80000gn/T/ipykernel_1790/2479036153.py\u001b[0m in \u001b[0;36m<module>\u001b[0;34m\u001b[0m\n\u001b[0;32m----> 1\u001b[0;31m history = model.fit(train_dataset, epochs=10,\n\u001b[0m\u001b[1;32m      2\u001b[0m                     \u001b[0mvalidation_data\u001b[0m\u001b[0;34m=\u001b[0m\u001b[0mtest_dataset\u001b[0m\u001b[0;34m,\u001b[0m\u001b[0;34m\u001b[0m\u001b[0;34m\u001b[0m\u001b[0m\n\u001b[1;32m      3\u001b[0m                     validation_steps=30)\n",
      "\u001b[0;32m~/miniforge3/envs/mlp/lib/python3.8/site-packages/keras/utils/traceback_utils.py\u001b[0m in \u001b[0;36merror_handler\u001b[0;34m(*args, **kwargs)\u001b[0m\n\u001b[1;32m     62\u001b[0m     \u001b[0mfiltered_tb\u001b[0m \u001b[0;34m=\u001b[0m \u001b[0;32mNone\u001b[0m\u001b[0;34m\u001b[0m\u001b[0;34m\u001b[0m\u001b[0m\n\u001b[1;32m     63\u001b[0m     \u001b[0;32mtry\u001b[0m\u001b[0;34m:\u001b[0m\u001b[0;34m\u001b[0m\u001b[0;34m\u001b[0m\u001b[0m\n\u001b[0;32m---> 64\u001b[0;31m       \u001b[0;32mreturn\u001b[0m \u001b[0mfn\u001b[0m\u001b[0;34m(\u001b[0m\u001b[0;34m*\u001b[0m\u001b[0margs\u001b[0m\u001b[0;34m,\u001b[0m \u001b[0;34m**\u001b[0m\u001b[0mkwargs\u001b[0m\u001b[0;34m)\u001b[0m\u001b[0;34m\u001b[0m\u001b[0;34m\u001b[0m\u001b[0m\n\u001b[0m\u001b[1;32m     65\u001b[0m     \u001b[0;32mexcept\u001b[0m \u001b[0mException\u001b[0m \u001b[0;32mas\u001b[0m \u001b[0me\u001b[0m\u001b[0;34m:\u001b[0m  \u001b[0;31m# pylint: disable=broad-except\u001b[0m\u001b[0;34m\u001b[0m\u001b[0;34m\u001b[0m\u001b[0m\n\u001b[1;32m     66\u001b[0m       \u001b[0mfiltered_tb\u001b[0m \u001b[0;34m=\u001b[0m \u001b[0m_process_traceback_frames\u001b[0m\u001b[0;34m(\u001b[0m\u001b[0me\u001b[0m\u001b[0;34m.\u001b[0m\u001b[0m__traceback__\u001b[0m\u001b[0;34m)\u001b[0m\u001b[0;34m\u001b[0m\u001b[0;34m\u001b[0m\u001b[0m\n",
      "\u001b[0;32m~/miniforge3/envs/mlp/lib/python3.8/site-packages/keras/engine/training.py\u001b[0m in \u001b[0;36mfit\u001b[0;34m(self, x, y, batch_size, epochs, verbose, callbacks, validation_split, validation_data, shuffle, class_weight, sample_weight, initial_epoch, steps_per_epoch, validation_steps, validation_batch_size, validation_freq, max_queue_size, workers, use_multiprocessing)\u001b[0m\n\u001b[1;32m   1214\u001b[0m                 _r=1):\n\u001b[1;32m   1215\u001b[0m               \u001b[0mcallbacks\u001b[0m\u001b[0;34m.\u001b[0m\u001b[0mon_train_batch_begin\u001b[0m\u001b[0;34m(\u001b[0m\u001b[0mstep\u001b[0m\u001b[0;34m)\u001b[0m\u001b[0;34m\u001b[0m\u001b[0;34m\u001b[0m\u001b[0m\n\u001b[0;32m-> 1216\u001b[0;31m               \u001b[0mtmp_logs\u001b[0m \u001b[0;34m=\u001b[0m \u001b[0mself\u001b[0m\u001b[0;34m.\u001b[0m\u001b[0mtrain_function\u001b[0m\u001b[0;34m(\u001b[0m\u001b[0miterator\u001b[0m\u001b[0;34m)\u001b[0m\u001b[0;34m\u001b[0m\u001b[0;34m\u001b[0m\u001b[0m\n\u001b[0m\u001b[1;32m   1217\u001b[0m               \u001b[0;32mif\u001b[0m \u001b[0mdata_handler\u001b[0m\u001b[0;34m.\u001b[0m\u001b[0mshould_sync\u001b[0m\u001b[0;34m:\u001b[0m\u001b[0;34m\u001b[0m\u001b[0;34m\u001b[0m\u001b[0m\n\u001b[1;32m   1218\u001b[0m                 \u001b[0mcontext\u001b[0m\u001b[0;34m.\u001b[0m\u001b[0masync_wait\u001b[0m\u001b[0;34m(\u001b[0m\u001b[0;34m)\u001b[0m\u001b[0;34m\u001b[0m\u001b[0;34m\u001b[0m\u001b[0m\n",
      "\u001b[0;32m~/miniforge3/envs/mlp/lib/python3.8/site-packages/tensorflow/python/util/traceback_utils.py\u001b[0m in \u001b[0;36merror_handler\u001b[0;34m(*args, **kwargs)\u001b[0m\n\u001b[1;32m    148\u001b[0m     \u001b[0mfiltered_tb\u001b[0m \u001b[0;34m=\u001b[0m \u001b[0;32mNone\u001b[0m\u001b[0;34m\u001b[0m\u001b[0;34m\u001b[0m\u001b[0m\n\u001b[1;32m    149\u001b[0m     \u001b[0;32mtry\u001b[0m\u001b[0;34m:\u001b[0m\u001b[0;34m\u001b[0m\u001b[0;34m\u001b[0m\u001b[0m\n\u001b[0;32m--> 150\u001b[0;31m       \u001b[0;32mreturn\u001b[0m \u001b[0mfn\u001b[0m\u001b[0;34m(\u001b[0m\u001b[0;34m*\u001b[0m\u001b[0margs\u001b[0m\u001b[0;34m,\u001b[0m \u001b[0;34m**\u001b[0m\u001b[0mkwargs\u001b[0m\u001b[0;34m)\u001b[0m\u001b[0;34m\u001b[0m\u001b[0;34m\u001b[0m\u001b[0m\n\u001b[0m\u001b[1;32m    151\u001b[0m     \u001b[0;32mexcept\u001b[0m \u001b[0mException\u001b[0m \u001b[0;32mas\u001b[0m \u001b[0me\u001b[0m\u001b[0;34m:\u001b[0m\u001b[0;34m\u001b[0m\u001b[0;34m\u001b[0m\u001b[0m\n\u001b[1;32m    152\u001b[0m       \u001b[0mfiltered_tb\u001b[0m \u001b[0;34m=\u001b[0m \u001b[0m_process_traceback_frames\u001b[0m\u001b[0;34m(\u001b[0m\u001b[0me\u001b[0m\u001b[0;34m.\u001b[0m\u001b[0m__traceback__\u001b[0m\u001b[0;34m)\u001b[0m\u001b[0;34m\u001b[0m\u001b[0;34m\u001b[0m\u001b[0m\n",
      "\u001b[0;32m~/miniforge3/envs/mlp/lib/python3.8/site-packages/tensorflow/python/eager/def_function.py\u001b[0m in \u001b[0;36m__call__\u001b[0;34m(self, *args, **kwds)\u001b[0m\n\u001b[1;32m    908\u001b[0m \u001b[0;34m\u001b[0m\u001b[0m\n\u001b[1;32m    909\u001b[0m       \u001b[0;32mwith\u001b[0m \u001b[0mOptionalXlaContext\u001b[0m\u001b[0;34m(\u001b[0m\u001b[0mself\u001b[0m\u001b[0;34m.\u001b[0m\u001b[0m_jit_compile\u001b[0m\u001b[0;34m)\u001b[0m\u001b[0;34m:\u001b[0m\u001b[0;34m\u001b[0m\u001b[0;34m\u001b[0m\u001b[0m\n\u001b[0;32m--> 910\u001b[0;31m         \u001b[0mresult\u001b[0m \u001b[0;34m=\u001b[0m \u001b[0mself\u001b[0m\u001b[0;34m.\u001b[0m\u001b[0m_call\u001b[0m\u001b[0;34m(\u001b[0m\u001b[0;34m*\u001b[0m\u001b[0margs\u001b[0m\u001b[0;34m,\u001b[0m \u001b[0;34m**\u001b[0m\u001b[0mkwds\u001b[0m\u001b[0;34m)\u001b[0m\u001b[0;34m\u001b[0m\u001b[0;34m\u001b[0m\u001b[0m\n\u001b[0m\u001b[1;32m    911\u001b[0m \u001b[0;34m\u001b[0m\u001b[0m\n\u001b[1;32m    912\u001b[0m       \u001b[0mnew_tracing_count\u001b[0m \u001b[0;34m=\u001b[0m \u001b[0mself\u001b[0m\u001b[0;34m.\u001b[0m\u001b[0mexperimental_get_tracing_count\u001b[0m\u001b[0;34m(\u001b[0m\u001b[0;34m)\u001b[0m\u001b[0;34m\u001b[0m\u001b[0;34m\u001b[0m\u001b[0m\n",
      "\u001b[0;32m~/miniforge3/envs/mlp/lib/python3.8/site-packages/tensorflow/python/eager/def_function.py\u001b[0m in \u001b[0;36m_call\u001b[0;34m(self, *args, **kwds)\u001b[0m\n\u001b[1;32m    940\u001b[0m       \u001b[0;31m# In this case we have created variables on the first call, so we run the\u001b[0m\u001b[0;34m\u001b[0m\u001b[0;34m\u001b[0m\u001b[0;34m\u001b[0m\u001b[0m\n\u001b[1;32m    941\u001b[0m       \u001b[0;31m# defunned version which is guaranteed to never create variables.\u001b[0m\u001b[0;34m\u001b[0m\u001b[0;34m\u001b[0m\u001b[0;34m\u001b[0m\u001b[0m\n\u001b[0;32m--> 942\u001b[0;31m       \u001b[0;32mreturn\u001b[0m \u001b[0mself\u001b[0m\u001b[0;34m.\u001b[0m\u001b[0m_stateless_fn\u001b[0m\u001b[0;34m(\u001b[0m\u001b[0;34m*\u001b[0m\u001b[0margs\u001b[0m\u001b[0;34m,\u001b[0m \u001b[0;34m**\u001b[0m\u001b[0mkwds\u001b[0m\u001b[0;34m)\u001b[0m  \u001b[0;31m# pylint: disable=not-callable\u001b[0m\u001b[0;34m\u001b[0m\u001b[0;34m\u001b[0m\u001b[0m\n\u001b[0m\u001b[1;32m    943\u001b[0m     \u001b[0;32melif\u001b[0m \u001b[0mself\u001b[0m\u001b[0;34m.\u001b[0m\u001b[0m_stateful_fn\u001b[0m \u001b[0;32mis\u001b[0m \u001b[0;32mnot\u001b[0m \u001b[0;32mNone\u001b[0m\u001b[0;34m:\u001b[0m\u001b[0;34m\u001b[0m\u001b[0;34m\u001b[0m\u001b[0m\n\u001b[1;32m    944\u001b[0m       \u001b[0;31m# Release the lock early so that multiple threads can perform the call\u001b[0m\u001b[0;34m\u001b[0m\u001b[0;34m\u001b[0m\u001b[0;34m\u001b[0m\u001b[0m\n",
      "\u001b[0;32m~/miniforge3/envs/mlp/lib/python3.8/site-packages/tensorflow/python/eager/function.py\u001b[0m in \u001b[0;36m__call__\u001b[0;34m(self, *args, **kwargs)\u001b[0m\n\u001b[1;32m   3128\u001b[0m       (graph_function,\n\u001b[1;32m   3129\u001b[0m        filtered_flat_args) = self._maybe_define_function(args, kwargs)\n\u001b[0;32m-> 3130\u001b[0;31m     return graph_function._call_flat(\n\u001b[0m\u001b[1;32m   3131\u001b[0m         filtered_flat_args, captured_inputs=graph_function.captured_inputs)  # pylint: disable=protected-access\n\u001b[1;32m   3132\u001b[0m \u001b[0;34m\u001b[0m\u001b[0m\n",
      "\u001b[0;32m~/miniforge3/envs/mlp/lib/python3.8/site-packages/tensorflow/python/eager/function.py\u001b[0m in \u001b[0;36m_call_flat\u001b[0;34m(self, args, captured_inputs, cancellation_manager)\u001b[0m\n\u001b[1;32m   1957\u001b[0m         and executing_eagerly):\n\u001b[1;32m   1958\u001b[0m       \u001b[0;31m# No tape is watching; skip to running the function.\u001b[0m\u001b[0;34m\u001b[0m\u001b[0;34m\u001b[0m\u001b[0;34m\u001b[0m\u001b[0m\n\u001b[0;32m-> 1959\u001b[0;31m       return self._build_call_outputs(self._inference_function.call(\n\u001b[0m\u001b[1;32m   1960\u001b[0m           ctx, args, cancellation_manager=cancellation_manager))\n\u001b[1;32m   1961\u001b[0m     forward_backward = self._select_forward_and_backward_functions(\n",
      "\u001b[0;32m~/miniforge3/envs/mlp/lib/python3.8/site-packages/tensorflow/python/eager/function.py\u001b[0m in \u001b[0;36mcall\u001b[0;34m(self, ctx, args, cancellation_manager)\u001b[0m\n\u001b[1;32m    596\u001b[0m       \u001b[0;32mwith\u001b[0m \u001b[0m_InterpolateFunctionError\u001b[0m\u001b[0;34m(\u001b[0m\u001b[0mself\u001b[0m\u001b[0;34m)\u001b[0m\u001b[0;34m:\u001b[0m\u001b[0;34m\u001b[0m\u001b[0;34m\u001b[0m\u001b[0m\n\u001b[1;32m    597\u001b[0m         \u001b[0;32mif\u001b[0m \u001b[0mcancellation_manager\u001b[0m \u001b[0;32mis\u001b[0m \u001b[0;32mNone\u001b[0m\u001b[0;34m:\u001b[0m\u001b[0;34m\u001b[0m\u001b[0;34m\u001b[0m\u001b[0m\n\u001b[0;32m--> 598\u001b[0;31m           outputs = execute.execute(\n\u001b[0m\u001b[1;32m    599\u001b[0m               \u001b[0mstr\u001b[0m\u001b[0;34m(\u001b[0m\u001b[0mself\u001b[0m\u001b[0;34m.\u001b[0m\u001b[0msignature\u001b[0m\u001b[0;34m.\u001b[0m\u001b[0mname\u001b[0m\u001b[0;34m)\u001b[0m\u001b[0;34m,\u001b[0m\u001b[0;34m\u001b[0m\u001b[0;34m\u001b[0m\u001b[0m\n\u001b[1;32m    600\u001b[0m               \u001b[0mnum_outputs\u001b[0m\u001b[0;34m=\u001b[0m\u001b[0mself\u001b[0m\u001b[0;34m.\u001b[0m\u001b[0m_num_outputs\u001b[0m\u001b[0;34m,\u001b[0m\u001b[0;34m\u001b[0m\u001b[0;34m\u001b[0m\u001b[0m\n",
      "\u001b[0;32m~/miniforge3/envs/mlp/lib/python3.8/site-packages/tensorflow/python/eager/execute.py\u001b[0m in \u001b[0;36mquick_execute\u001b[0;34m(op_name, num_outputs, inputs, attrs, ctx, name)\u001b[0m\n\u001b[1;32m     56\u001b[0m   \u001b[0;32mtry\u001b[0m\u001b[0;34m:\u001b[0m\u001b[0;34m\u001b[0m\u001b[0;34m\u001b[0m\u001b[0m\n\u001b[1;32m     57\u001b[0m     \u001b[0mctx\u001b[0m\u001b[0;34m.\u001b[0m\u001b[0mensure_initialized\u001b[0m\u001b[0;34m(\u001b[0m\u001b[0;34m)\u001b[0m\u001b[0;34m\u001b[0m\u001b[0;34m\u001b[0m\u001b[0m\n\u001b[0;32m---> 58\u001b[0;31m     tensors = pywrap_tfe.TFE_Py_Execute(ctx._handle, device_name, op_name,\n\u001b[0m\u001b[1;32m     59\u001b[0m                                         inputs, attrs, num_outputs)\n\u001b[1;32m     60\u001b[0m   \u001b[0;32mexcept\u001b[0m \u001b[0mcore\u001b[0m\u001b[0;34m.\u001b[0m\u001b[0m_NotOkStatusException\u001b[0m \u001b[0;32mas\u001b[0m \u001b[0me\u001b[0m\u001b[0;34m:\u001b[0m\u001b[0;34m\u001b[0m\u001b[0;34m\u001b[0m\u001b[0m\n",
      "\u001b[0;31mKeyboardInterrupt\u001b[0m: "
     ]
    }
   ],
   "source": [
    "history = model.fit(train_dataset, epochs=10,\n",
    "                    validation_data=test_dataset,\n",
    "                    validation_steps=30)"
   ]
  },
  {
   "cell_type": "code",
   "execution_count": null,
   "id": "27f6db35",
   "metadata": {},
   "outputs": [],
   "source": [
    "plt.figure(figsize=(16, 8))\n",
    "plt.subplot(1, 2, 1)\n",
    "plot_graphs(history, 'accuracy')\n",
    "plt.ylim(None, 1)\n",
    "plt.subplot(1, 2, 2)\n",
    "plot_graphs(history, 'loss')\n",
    "plt.ylim(0, None)"
   ]
  }
 ],
 "metadata": {
  "kernelspec": {
   "display_name": "Python 3 (ipykernel)",
   "language": "python",
   "name": "python3"
  },
  "language_info": {
   "codemirror_mode": {
    "name": "ipython",
    "version": 3
   },
   "file_extension": ".py",
   "mimetype": "text/x-python",
   "name": "python",
   "nbconvert_exporter": "python",
   "pygments_lexer": "ipython3",
   "version": "3.8.12"
  }
 },
 "nbformat": 4,
 "nbformat_minor": 5
}
